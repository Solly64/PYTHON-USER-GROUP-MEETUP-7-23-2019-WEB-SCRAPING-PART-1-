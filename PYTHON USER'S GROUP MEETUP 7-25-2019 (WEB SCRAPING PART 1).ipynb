{
 "cells": [
  {
   "cell_type": "code",
   "execution_count": 10,
   "metadata": {},
   "outputs": [],
   "source": [
    "# ENTER THE IMPORTS THAT ARE NEEDED FOR THE SCRAPING NFL DATA\n",
    "\n",
    "import requests\n",
    "from requests import get\n",
    "from bs4 import BeautifulSoup\n",
    "from urllib.parse import urlparse\n",
    "import pandas as pd\n"
   ]
  },
  {
   "cell_type": "code",
   "execution_count": 37,
   "metadata": {
    "code_folding": []
   },
   "outputs": [
    {
     "data": {
      "text/plain": [
       "list"
      ]
     },
     "execution_count": 37,
     "metadata": {},
     "output_type": "execute_result"
    }
   ],
   "source": [
    "# MAKE SURE THE URL IS CORRECT AND THERE ARE NO ERRORS WITHIN IT. \n",
    "main_url= requests.get('http://www.espn.com/nfl/standings')\n",
    "soup= BeautifulSoup(main_url.text,'html.parser')\n",
    "# CREATE AN EMPTY LIST SO THE SCRAPED DATA BE PUT IN THE LIST\n",
    "df=[]\n",
    "\n",
    "table = soup.find('table')\n",
    "\n",
    "#List to store the rows \n",
    "df = []\n",
    "#Collect all the tables\n",
    "tables = soup.find_all('table', attrs={'class':'Table2__table__wrapper'})\n",
    "for table in tables:\n",
    "    rows = soup.find_all('tr')\n",
    "    #rows = iter(rows)\n",
    "    row_item = []\n",
    "    for row in rows:\n",
    "        #Collect all 'td' elements from the 'row' & append them to a list 'row_item'\n",
    "        data_items = row.find_all('td')\n",
    "        for data_item in data_items: \n",
    "            row_item.append(data_item.text)\n",
    "        #Append the list to the 'df'\n",
    "        df.append(row_item)\n",
    "        row_item = []\n",
    "type(df)\n"
   ]
  },
  {
   "cell_type": "code",
   "execution_count": 64,
   "metadata": {},
   "outputs": [],
   "source": [
    "# EXTRACT THE LIST TO THE NUMBER YOU WOULD LIKE TO PUT IN A TABLE\n",
    "nfl=df[1:21]\n",
    "# PUT THE LIST IN A PANDAS DATAFRAME FOR IT TO BE READY FOR CONCATENATION \n",
    "nfl=pd.DataFrame(nfl)\n",
    "nfl_stat=df[22:42]\n",
    "nfl_stat=pd.DataFrame(nfl_stat)\n",
    "# CONCAT THE TWO DATAFRAMES WITH AXIS =1\n",
    "nfl_data=pd.concat([nfl, nfl_stat],axis=1)\n",
    "# EXPORT THE DATA FROM EITHER A CSV, XLSM, OR HTML BY EITHER USING .to_csv, .to_excel, or .to_html\n",
    "nfl_data.to_csv('standings.csv')"
   ]
  }
 ],
 "metadata": {
  "kernelspec": {
   "display_name": "Python 3",
   "language": "python",
   "name": "python3"
  },
  "language_info": {
   "codemirror_mode": {
    "name": "ipython",
    "version": 3
   },
   "file_extension": ".py",
   "mimetype": "text/x-python",
   "name": "python",
   "nbconvert_exporter": "python",
   "pygments_lexer": "ipython3",
   "version": "3.7.3"
  }
 },
 "nbformat": 4,
 "nbformat_minor": 2
}
